{
  "cells": [
    {
      "cell_type": "markdown",
      "metadata": {
        "id": "view-in-github",
        "colab_type": "text"
      },
      "source": [
        "<a href=\"https://colab.research.google.com/github/valdezax2/Burpsuite-Professional/blob/main/work/earth_engine.ipynb\" target=\"_parent\"><img src=\"https://colab.research.google.com/assets/colab-badge.svg\" alt=\"Open In Colab\"/></a>"
      ]
    },
    {
      "cell_type": "markdown",
      "metadata": {
        "id": "4WaDstpQ4ka7"
      },
      "source": [
        "# Filter Landsat 8 to a date range this is dope\n",
        "\n",
        "\n",
        "Write Earth Engine Python code to filter a Landsat 8 collection to a date range from December 1, 2020 to March 1, 2021 and display the median composite on the map."
      ]
    },
    {
      "cell_type": "code",
      "execution_count": null,
      "metadata": {
        "id": "tCOlqTVI4r7w"
      },
      "outputs": [],
      "source": [
        "import ee\n",
        "import geemap\n",
        "ee.Initialize()\n",
        "m = geemap.Map()\n",
        "\n",
        "# Define the start and end dates for the given date range\n",
        "start_date = '2020-12-01'\n",
        "end_date = '2021-03-01'\n",
        "\n",
        "# Filter the Landsat 8 collection to the given date range.\n",
        "# The end date is exclusive.\n",
        "image_collection = ee.ImageCollection(\n",
        "    'LANDSAT/LC08/C02/T1').filterDate(start_date, end_date)\n",
        "\n",
        "# Calculate the median composite\n",
        "median_composite = image_collection.median()\n",
        "\n",
        "# Display the median composite on the map\n",
        "m.add_layer(\n",
        "    median_composite,\n",
        "    {'bands': ['B4', 'B3', 'B2'], 'min': 0, 'max':30000},\n",
        "    'Median Composite')\n",
        "m"
      ]
    },
    {
      "cell_type": "markdown",
      "metadata": {
        "id": "sAN12nzj44bk"
      },
      "source": [
        "# Show NDVI from Sentinel-2 SR over Milan\n",
        "\n",
        "\n",
        "Write Earth Engine Python code to show NDVI from Sentinel-2 SR images over Milan, Italy."
      ]
    },
    {
      "cell_type": "code",
      "execution_count": null,
      "metadata": {
        "id": "m2AtSiJS48FS"
      },
      "outputs": [],
      "source": [
        "import ee\n",
        "import geemap\n",
        "ee.Initialize()\n",
        "m = geemap.Map()\n",
        "\n",
        "x = 9.1895\n",
        "y = 45.4660\n",
        "\n",
        "# Define the start and end dates for the Sentinel-2 image collection\n",
        "start_date = '2019-06-01'\n",
        "end_date = '2019-06-15'\n",
        "\n",
        "# Load the Sentinel-2 SR image collection\n",
        "image = (ee.ImageCollection('COPERNICUS/S2_SR_HARMONIZED')\n",
        "              .filterDate(start_date, end_date)\n",
        "              .filterBounds(ee.Geometry.Point(x, y)).mosaic())\n",
        "\n",
        "\n",
        "# Calculate NDVI\n",
        "ndvi = image.normalizedDifference(['B8', 'B4'])\n",
        "\n",
        "# Define visualization parameters\n",
        "vis_params = {\n",
        "  'min': -1,\n",
        "  'max': 1,\n",
        "  'palette': ['red', 'white', 'green']\n",
        "}\n",
        "\n",
        "\n",
        "# Add layer to the map\n",
        "m.add_layer(ndvi, vis_params, 'NDVI')\n",
        "# Set the center of the map to Milan, Italy\n",
        "m.set_center(x, y, 13)\n",
        "m"
      ]
    },
    {
      "cell_type": "markdown",
      "metadata": {
        "id": "hnMIKGp95Iv4"
      },
      "source": [
        "# Display SRTM DEM over Seattle\n",
        "\n",
        "\n",
        "Write Earth Engine Python code to display the elevation data from the SRTM DEM over Seattle, Washington."
      ]
    },
    {
      "cell_type": "code",
      "execution_count": null,
      "metadata": {
        "id": "i-UIReQK5MTG"
      },
      "outputs": [],
      "source": [
        "import ee\n",
        "import geemap\n",
        "ee.Initialize()\n",
        "m = geemap.Map()\n",
        "\n",
        "# Load SRTM DEM\n",
        "srtm = ee.Image('USGS/SRTMGL1_003')\n",
        "\n",
        "# Select elevation band\n",
        "elevation = srtm.select('elevation')\n",
        "\n",
        "# Define visualization parameters\n",
        "vis_params = {\n",
        "  'min': 0,\n",
        "  'max': 4000,\n",
        "  'palette': ['0000ff', '00ffff', 'ffff00', 'ff0000'],\n",
        "}\n",
        "\n",
        "# Add layer to the map\n",
        "m.set_center(-122.3321, 47.6062, 10)\n",
        "m.add_layer(elevation, vis_params, 'Elevation')\n",
        "m"
      ]
    },
    {
      "cell_type": "markdown",
      "metadata": {
        "id": "Cxln8lZH5YiA"
      },
      "source": [
        "# Calculate mean NDVI on the 10km buffer around Paris using Sentinel-2\n",
        "\n",
        "\n",
        "Write Earth Engine Python code to create a 10km buffer around a point representing Paris, France, and calculate the mean NDVI within the buffer zone from a Sentinel-2 image composite."
      ]
    },
    {
      "cell_type": "code",
      "execution_count": null,
      "metadata": {
        "id": "YRlxdYse5hyn"
      },
      "outputs": [],
      "source": [
        "import ee\n",
        "import geemap\n",
        "ee.Initialize()\n",
        "m = geemap.Map()\n",
        "\n",
        "# Define coordinates for Paris\n",
        "x = 2.3522\n",
        "y = 48.8566\n",
        "\n",
        "# Create a point geometry for Paris\n",
        "paris_point = ee.Geometry.Point([x, y])\n",
        "\n",
        "# Create a 10km buffer around Paris\n",
        "buffer = paris_point.buffer(10000)\n",
        "\n",
        "# Change the dates as necessary.\n",
        "start_date = '2023-07-01'\n",
        "end_date = '2023-07-15'\n",
        "\n",
        "# Load a Sentinel-2 composite. It's also possible to use median() or other ways\n",
        "# to produce a composite.\n",
        "image = (ee.ImageCollection('COPERNICUS/S2_SR_HARMONIZED')\n",
        "              .filterDate(start_date, end_date)\n",
        "              .mosaic())\n",
        "\n",
        "# Calculate NDVI\n",
        "ndvi = image.normalizedDifference(['B8', 'B4'])\n",
        "\n",
        "# Calculate mean NDVI within the buffer\n",
        "mean_ndvi = ndvi.reduceRegion(\n",
        "  reducer=ee.Reducer.mean(),\n",
        "  geometry=buffer,\n",
        "  scale=100 # Scale in meters, might need to be changed.\n",
        ")\n",
        "\n",
        "# Print the mean NDVI\n",
        "print('Mean NDVI:', mean_ndvi.get('nd').getInfo())\n",
        "\n",
        "# Display the buffer and NDVI on the map\n",
        "m.set_center(x, y, 10)\n",
        "m.add_layer(buffer, {}, 'Buffer')\n",
        "m.add_layer(\n",
        "    ndvi,\n",
        "    {'min': -1, 'max': 1, 'palette': ['red', 'white', 'green']}, 'NDVI')\n",
        "m"
      ]
    },
    {
      "cell_type": "markdown",
      "metadata": {
        "id": "59ufGIfW5sXF"
      },
      "source": [
        "# Mask out Sentinel-2 pixels above 100 m using SRTM\n",
        "\n",
        "\n",
        "Write Earth Engine Python code to mask out pixels above 100 m from a Sentinel-2 image using the SRTM dataset."
      ]
    },
    {
      "cell_type": "code",
      "execution_count": null,
      "metadata": {
        "id": "QgL4VE6e5vm5"
      },
      "outputs": [],
      "source": [
        "import ee\n",
        "import geemap\n",
        "ee.Initialize()\n",
        "m = geemap.Map()\n",
        "\n",
        "x = -122.4194\n",
        "y = 37.7749\n",
        "\n",
        "start_date = '2022-06-01'\n",
        "end_date = '2022-06-15'\n",
        "\n",
        "image = (ee.ImageCollection('COPERNICUS/S2_SR_HARMONIZED')\n",
        "              .filterDate(start_date, end_date)\n",
        "              .filterBounds(ee.Geometry.Point(x, y)).mosaic())\n",
        "\n",
        "srtm = ee.Image('USGS/SRTMGL1_003')\n",
        "\n",
        "elevation = srtm.select('elevation')\n",
        "\n",
        "elevation_threshold = 100\n",
        "\n",
        "masked_image = image.updateMask(elevation.lt(elevation_threshold))\n",
        "\n",
        "m.add_layer(\n",
        "    elevation,\n",
        "    {'min': 0, 'max': 1000, 'palette': ['0000ff', '00ffff', 'ffff00', 'ff0000']},\n",
        "    'Elevation')\n",
        "\n",
        "m.add_layer(\n",
        "    masked_image,\n",
        "    {'bands': ['B4', 'B3', 'B2'], 'min': 0, 'max': 1500}, 'Masked Image')\n",
        "m.set_center(x, y, 10)\n",
        "m"
      ]
    },
    {
      "cell_type": "markdown",
      "metadata": {
        "id": "pUA-m_qH54Rl"
      },
      "source": [
        "# Show NDVI over Rio using Landsat 8\n",
        "\n",
        "Write Earth Engine Python code to show the Normalized Difference Vegetation Index (NDVI) for a collection of Landsat 8 images over Rio de Janeiro, Brazil"
      ]
    },
    {
      "cell_type": "code",
      "execution_count": null,
      "metadata": {
        "id": "vM6zr0OR59RE"
      },
      "outputs": [],
      "source": [
        "import ee\n",
        "import geemap\n",
        "ee.Initialize()\n",
        "m = geemap.Map()\n",
        "\n",
        "# Define the area of interest\n",
        "rio = ee.Geometry.Point([-43.1729, -22.9068])\n",
        "\n",
        "# Load the Landsat 8 collection\n",
        "landsat8 = ee.ImageCollection('LANDSAT/LC08/C02/T1_L2') \\\n",
        "    .filterBounds(rio) \\\n",
        "    .filterDate('2020-01-01', '2020-03-01') \\\n",
        "    .filter(ee.Filter.lt('CLOUD_COVER', 20))\n",
        "\n",
        "# Function to calculate NDVI\n",
        "def calculateNDVI(img):\n",
        "    ndvi = img.normalizedDifference(['SR_B5', 'SR_B4']).rename('NDVI')\n",
        "    return img.addBands(ndvi)\n",
        "\n",
        "# Map the NDVI function over the image collection\n",
        "landsatNDVI = landsat8.map(calculateNDVI)\n",
        "\n",
        "# Create a multi-band median composite\n",
        "medianComposite = landsatNDVI.median()\n",
        "\n",
        "# Display the NDVI composite on the map\n",
        "ndviParams = {\n",
        "    'min': -1,\n",
        "    'max': 1,\n",
        "    'palette': ['blue', 'white', 'green']\n",
        "}\n",
        "m.centerObject(rio, 10)\n",
        "m.add_layer(medianComposite.select('NDVI'), ndviParams, 'Landsat 8 NDVI')\n",
        "m"
      ]
    },
    {
      "cell_type": "markdown",
      "metadata": {
        "id": "3iejPNnc6Gp4"
      },
      "source": [
        "# Apply QA_PIXEL cloud mask to Landsat 8\n",
        "\n",
        "\n",
        "Write Earth Engine Python code to apply the QA_PIXEL cloud mask to a Landsat 8 image. Display the original and masked images on the map."
      ]
    },
    {
      "cell_type": "code",
      "execution_count": null,
      "metadata": {
        "id": "JE4aoAUX5_a0"
      },
      "outputs": [],
      "source": [
        "import ee\n",
        "import geemap\n",
        "ee.Initialize()\n",
        "m = geemap.Map()\n",
        "\n",
        "# Load a Landsat 8 image\n",
        "image = (ee.ImageCollection('LANDSAT/LC08/C02/T1_L2')\n",
        "              .filter(ee.Filter.greaterThan('CLOUD_COVER', 30))\n",
        "              .filter(ee.Filter.lessThan('CLOUD_COVER', 60)).first())\n",
        "\n",
        "# Define a function to mask clouds using the QA_PIXEL band\n",
        "def maskL8sr(image):\n",
        "  # Bit 2 is cirrus, bit 3 is cloud , bit 4 is cloud shadow\n",
        "  cloudShadowBitMask = (1 << 2) | (1 << 3) | (1 << 4)\n",
        "  # Get the pixel QA band\n",
        "  qa = image.select('QA_PIXEL')\n",
        "  # Both flags should be set to zero, indicating clear conditions.\n",
        "  mask = qa.bitwiseAnd(cloudShadowBitMask).eq(0)\n",
        "  return image.updateMask(mask)\n",
        "\n",
        "# Apply the cloud mask\n",
        "masked_image = maskL8sr(image)\n",
        "\n",
        "# Define visualization parameters\n",
        "vis_params = {\n",
        "  'bands': ['SR_B4', 'SR_B3', 'SR_B2'],\n",
        "  'min': 0,\n",
        "  'max': 50000\n",
        "}\n",
        "\n",
        "# Center the map on the image\n",
        "m.centerObject(image, 7)\n",
        "\n",
        "# Add both original and masked images to the map\n",
        "m.add_layer(image, vis_params, 'Original Image')\n",
        "m.add_layer(masked_image, vis_params, 'Masked Image')\n",
        "m"
      ]
    },
    {
      "cell_type": "markdown",
      "metadata": {
        "id": "g9-bjMFU6UNj"
      },
      "source": [
        "# Show average yearly temperatures over California\n",
        "\n",
        "\n",
        "Write Earth Engine Python code to show a map of the average temperature over a year for a region in California."
      ]
    },
    {
      "cell_type": "code",
      "execution_count": null,
      "metadata": {
        "id": "WqKzlIdu6atL"
      },
      "outputs": [],
      "source": [
        "import ee\n",
        "import geemap\n",
        "ee.Initialize()\n",
        "m = geemap.Map()\n",
        "\n",
        "# Define the region of interest in California\n",
        "california_region = ee.Geometry.Rectangle([-124.48, 32.53, -114.13, 42.01])\n",
        "\n",
        "# Load ERA5 daily temperature data\n",
        "era5_daily = ee.ImageCollection(\"ECMWF/ERA5_LAND/DAILY_AGGR\")\n",
        "\n",
        "# Filter to a specific year (example: 2022)\n",
        "era5_2022 = era5_daily.filterDate('2022-01-01', '2022-12-31')\n",
        "\n",
        "# Select the temperature band\n",
        "temp = era5_2022.select('temperature_2m')\n",
        "\n",
        "# Calculate the annual average temperature\n",
        "annual_avg_temp = temp.mean().clip(california_region)\n",
        "\n",
        "# Define visualization parameters\n",
        "vis_params = {\n",
        "  'min': 273.15,  # 0 degrees Celsius in Kelvin\n",
        "  'max': 303.15,  # 30 degrees Celsius in Kelvin\n",
        "  'palette': ['blue', 'green', 'yellow', 'red']\n",
        "}\n",
        "\n",
        "# Center the map on the region and add the average temperature layer\n",
        "m.set_center(-121.5, 38.5, 6)\n",
        "m.add_layer(annual_avg_temp, vis_params, 'Average Temperature (2022)')\n",
        "m"
      ]
    },
    {
      "cell_type": "markdown",
      "metadata": {
        "id": "jRijSt2w6vVM"
      },
      "source": [
        "# Show a bar chart of MODIS land cover classes\n",
        "\n",
        "\n",
        "Write Earth Engine Python code to show a bar chart of the area of each MODIS land cover class within a given country."
      ]
    },
    {
      "cell_type": "code",
      "execution_count": null,
      "metadata": {
        "id": "SOeorpLy63Q1"
      },
      "outputs": [],
      "source": [
        "import ee\n",
        "import geemap\n",
        "ee.Initialize()\n",
        "m = geemap.Map()\n",
        "\n",
        "import matplotlib.pyplot as plt\n",
        "\n",
        "# Data import and filtering\n",
        "modis_collection = ee.ImageCollection(\n",
        "    'MODIS/061/MCD12Q1').filterDate('2019-01-01', '2020-01-01')\n",
        "\n",
        "country = ee.FeatureCollection('WM/geoLab/geoBoundaries/600/ADM0').filter(\n",
        "    ee.Filter.equals('shapeName', 'Suriname'))\n",
        "\n",
        "land_cover_image = modis_collection.select('LC_Type1').first().clip(country)\n",
        "\n",
        "land_cover_classes = ee.List.sequence(1, 17) # Assuming 17 land cover classes\n",
        "\n",
        "def calculate_area(class_value):\n",
        "  class_mask = land_cover_image.eq(ee.Number(class_value).toInt())\n",
        "  class_area = class_mask.multiply(ee.Image.pixelArea()).reduceRegion(\n",
        "    reducer=ee.Reducer.sum(),\n",
        "    geometry=country,\n",
        "    scale=500,\n",
        "    maxPixels=1e13\n",
        "    ).get('LC_Type1')\n",
        "  return ee.Feature(\n",
        "    None, {'class_value': class_value, 'class_area': class_area})\n",
        "\n",
        "area_results = ee.FeatureCollection(land_cover_classes.map(calculate_area))\n",
        "df = ee.data.computeFeatures(\n",
        "{'expression': area_results, 'fileFormat': 'PANDAS_DATAFRAME'})\n",
        "\n",
        "# Create bar chart using matplotlib\n",
        "plt.figure(figsize=(10, 6))\n",
        "plt.bar(df['class_value'], df['class_area'])\n",
        "plt.xlabel('Land Cover Class')\n",
        "plt.ylabel('Area (square meters)')\n",
        "plt.title('Area of MODIS Land Cover Classes in Suriname (2019)')\n",
        "\n",
        "# Set x-ticks to be integers and show all classes\n",
        "plt.xticks(df['class_value'], rotation=45, ha='right')\n",
        "\n",
        "plt.tight_layout()\n",
        "plt.show()"
      ]
    },
    {
      "cell_type": "markdown",
      "metadata": {
        "id": "n3oZpygk670B"
      },
      "source": [
        "# Show a line chart of CHIRPS precipitation\n",
        "\n",
        "\n",
        "Write Earth Engine Python code to create a line chart showing the time series of precipitation data for a specific location in California using the CHIRPS dataset."
      ]
    },
    {
      "cell_type": "code",
      "execution_count": null,
      "metadata": {
        "id": "2_O5efb07CCi"
      },
      "outputs": [],
      "source": [
        "import ee\n",
        "import geemap\n",
        "ee.Initialize()\n",
        "m = geemap.Map()\n",
        "\n",
        "import pandas as pd\n",
        "import matplotlib.pyplot as plt\n",
        "\n",
        "# Define a point of interest in California (example: San Francisco)\n",
        "point = ee.Geometry.Point([-122.4194, 37.7749])\n",
        "\n",
        "# Load CHIRPS precipitation data\n",
        "chirps = ee.ImageCollection('UCSB-CHG/CHIRPS/PENTAD')\n",
        "\n",
        "# Filter data for a specific time period (example: 2022)\n",
        "chirps_filtered = chirps.filterDate('2022-01-01', '2022-12-31')\n",
        "\n",
        "# Extract time series data at the point using the 5000m scale\n",
        "time_series = ee.data.computeValue(chirps_filtered.getRegion(point, 5000))\n",
        "\n",
        "# Convert to pandas DataFrame\n",
        "df = pd.DataFrame(time_series[1:], columns=time_series[0])\n",
        "\n",
        "# Convert date column to datetime objects\n",
        "df['datetime'] = pd.to_datetime(df['time'], unit='ms')\n",
        "\n",
        "# Set datetime as index\n",
        "df = df.set_index('datetime')\n",
        "\n",
        "# Select the precipitation band ('precipitation')\n",
        "precipitation = df['precipitation']\n",
        "\n",
        "# Plot the time series using matplotlib\n",
        "plt.figure(figsize=(12, 6))\n",
        "plt.plot(precipitation)\n",
        "plt.title('CHIRPS Precipitation Time Series (San Francisco, 2022)')\n",
        "plt.xlabel('Date')\n",
        "plt.ylabel('Precipitation (mm/pentad)')\n",
        "plt.grid(True)\n",
        "plt.show()"
      ]
    }
  ],
  "metadata": {
    "colab": {
      "provenance": [],
      "include_colab_link": true
    },
    "kernelspec": {
      "display_name": "Python 3",
      "name": "python3"
    },
    "language_info": {
      "name": "python"
    }
  },
  "nbformat": 4,
  "nbformat_minor": 0
}